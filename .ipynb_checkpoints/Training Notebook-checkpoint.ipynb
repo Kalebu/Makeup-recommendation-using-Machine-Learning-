{
 "cells": [
  {
   "cell_type": "code",
   "execution_count": 14,
   "metadata": {},
   "outputs": [],
   "source": [
    "import os\n",
    "import numpy as np\n",
    "from sklearn.svm import SVC\n",
    "import cv2\n",
    "from matplotlib import pyplot as plt"
   ]
  },
  {
   "cell_type": "code",
   "execution_count": 38,
   "metadata": {},
   "outputs": [],
   "source": [
    "#=======================loading data =====================\n",
    "def load_images(subject):\n",
    "    root_dir = os.getcwd()\n",
    "    image_dir = root_dir +'/'+subject\n",
    "    os.chdir(image_dir)\n",
    "    images = os.listdir()\n",
    "    subject_images =  cv2.imread(images[0],0)\n",
    "    data_image = np.array([subject_images])\n",
    "    subject_data = subject_images.reshape(1, -1)[0]\n",
    "    for index, image in enumerate(images):\n",
    "        if index>0:\n",
    "            image_data = cv2.imread(image, 0)\n",
    "            img_array =image_data.reshape(1, -1)[0]\n",
    "            subject_data = np.vstack((subject_data, img_array))\n",
    "            data_image = np.append(data_image, [image_data], axis=0)\n",
    "        continue\n",
    "    os.chdir(root_dir)\n",
    "    return [subject_data, data_image]"
   ]
  },
  {
   "cell_type": "code",
   "execution_count": 44,
   "metadata": {},
   "outputs": [],
   "source": [
    "subject_1, subject1_image = load_images('subject_1')\n",
    "subject_2, subject2_image = load_images('subject_2')"
   ]
  },
  {
   "cell_type": "code",
   "execution_count": 46,
   "metadata": {},
   "outputs": [
    {
     "ename": "SyntaxError",
     "evalue": "positional argument follows keyword argument (<ipython-input-46-a549917dc8d2>, line 5)",
     "output_type": "error",
     "traceback": [
      "\u001b[0;36m  File \u001b[0;32m\"<ipython-input-46-a549917dc8d2>\"\u001b[0;36m, line \u001b[0;32m5\u001b[0m\n\u001b[0;31m    plt.figure(figsize=10, 10)\u001b[0m\n\u001b[0m                          ^\u001b[0m\n\u001b[0;31mSyntaxError\u001b[0m\u001b[0;31m:\u001b[0m positional argument follows keyword argument\n"
     ]
    }
   ],
   "source": [
    "def plot_samples(subject_index=0):\n",
    "    subject_name = np.copy(subject1_image)\n",
    "    if subject_index ==1:\n",
    "        subject_name = np.copy(subject2_image)\n",
    "    plt.figure(figsize=(10, 10))\n",
    "    for picture in range(5):\n",
    "        plt.subplot(5,5,picture+1)\n",
    "        plt.xticks([])\n",
    "        plt.yticks([])\n",
    "        plt.imshow(subject_name[picture])\n",
    "    plt.show()"
   ]
  },
  {
   "cell_type": "code",
   "execution_count": 40,
   "metadata": {},
   "outputs": [],
   "source": [
    "os.chdir('/home/kalebu/Music/work/data_clean')"
   ]
  },
  {
   "cell_type": "code",
   "execution_count": null,
   "metadata": {},
   "outputs": [],
   "source": []
  }
 ],
 "metadata": {
  "kernelspec": {
   "display_name": "Python 3",
   "language": "python",
   "name": "python3"
  },
  "language_info": {
   "codemirror_mode": {
    "name": "ipython",
    "version": 3
   },
   "file_extension": ".py",
   "mimetype": "text/x-python",
   "name": "python",
   "nbconvert_exporter": "python",
   "pygments_lexer": "ipython3",
   "version": "3.6.7"
  }
 },
 "nbformat": 4,
 "nbformat_minor": 2
}
